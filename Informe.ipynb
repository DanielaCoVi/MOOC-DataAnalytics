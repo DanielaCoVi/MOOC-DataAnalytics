{
 "cells": [
  {
   "attachments": {},
   "cell_type": "markdown",
   "metadata": {},
   "source": [
    "## `PUNTO DE PARTIDA`"
   ]
  },
  {
   "attachments": {},
   "cell_type": "markdown",
   "metadata": {},
   "source": [
    "#### La consigna de generar un informe y un Dashboard soobre MOOC."
   ]
  },
  {
   "attachments": {},
   "cell_type": "markdown",
   "metadata": {},
   "source": [
    "## `LO PARTICULAR`"
   ]
  },
  {
   "attachments": {},
   "cell_type": "markdown",
   "metadata": {},
   "source": [
    "#### Generar una investigación a raíz de los datasets proporcionados de distintas plataformas ***MOOCs(Curso Masivo en Línea Abierto)*** para desarrollar un Storytelling."
   ]
  },
  {
   "attachments": {},
   "cell_type": "markdown",
   "metadata": {},
   "source": [
    "## `STORYTELLING`"
   ]
  },
  {
   "attachments": {},
   "cell_type": "markdown",
   "metadata": {},
   "source": [
    "#### ***\"Contar histotia con datos\"*** y eso es lo que busque implementar; en la búsqueda de nueva data nació \n",
    "### *\"La educación en tiempos de la pandemia de COVID-19\"*"
   ]
  },
  {
   "attachments": {},
   "cell_type": "markdown",
   "metadata": {},
   "source": [
    "## `ENFOQUE` "
   ]
  },
  {
   "attachments": {},
   "cell_type": "markdown",
   "metadata": {},
   "source": [
    "#### Pues ir viendo como este suceso mundial como lo fue la pandemia ha afectado esta propuesta dada por las plataformas brindadas como lo son Cousera, Edx y Udemy "
   ]
  }
 ],
 "metadata": {
  "kernelspec": {
   "display_name": "env_data",
   "language": "python",
   "name": "python3"
  },
  "language_info": {
   "name": "python",
   "version": "3.10.9 (tags/v3.10.9:1dd9be6, Dec  6 2022, 20:01:21) [MSC v.1934 64 bit (AMD64)]"
  },
  "orig_nbformat": 4,
  "vscode": {
   "interpreter": {
    "hash": "96465166f9c53fe40d240440ed300d64d33a3182806c8cb4792c4110f06e5d5d"
   }
  }
 },
 "nbformat": 4,
 "nbformat_minor": 2
}
